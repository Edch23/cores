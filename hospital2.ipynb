{
 "cells": [
  {
   "cell_type": "code",
   "execution_count": 1,
   "metadata": {},
   "outputs": [
    {
     "name": "stdout",
     "output_type": "stream",
     "text": [
      "Estructura de los datos:\n",
      "<class 'pandas.core.frame.DataFrame'>\n",
      "RangeIndex: 1338 entries, 0 to 1337\n",
      "Data columns (total 7 columns):\n",
      " #   Column    Non-Null Count  Dtype  \n",
      "---  ------    --------------  -----  \n",
      " 0   age       1338 non-null   int64  \n",
      " 1   sex       1338 non-null   object \n",
      " 2   bmi       1338 non-null   float64\n",
      " 3   children  1338 non-null   int64  \n",
      " 4   smoker    1338 non-null   object \n",
      " 5   region    1338 non-null   object \n",
      " 6   charges   1338 non-null   float64\n",
      "dtypes: float64(2), int64(2), object(3)\n",
      "memory usage: 73.3+ KB\n",
      "None\n",
      "\n",
      "Primeras filas:\n",
      "   age     sex     bmi  children smoker     region      charges\n",
      "0   19  female  27.900         0    yes  southwest  16884.92400\n",
      "1   18    male  33.770         1     no  southeast   1725.55230\n",
      "2   28    male  33.000         3     no  southeast   4449.46200\n",
      "3   33    male  22.705         0     no  northwest  21984.47061\n",
      "4   32    male  28.880         0     no  northwest   3866.85520\n",
      "\n",
      "Resumen estadístico:\n",
      "               age          bmi     children       charges\n",
      "count  1338.000000  1338.000000  1338.000000   1338.000000\n",
      "mean     39.207025    30.663397     1.094918  13270.422265\n",
      "std      14.049960     6.098187     1.205493  12110.011237\n",
      "min      18.000000    15.960000     0.000000   1121.873900\n",
      "25%      27.000000    26.296250     0.000000   4740.287150\n",
      "50%      39.000000    30.400000     1.000000   9382.033000\n",
      "75%      51.000000    34.693750     2.000000  16639.912515\n",
      "max      64.000000    53.130000     5.000000  63770.428010\n",
      "\n",
      "Valores nulos por columna:\n",
      "age         0\n",
      "sex         0\n",
      "bmi         0\n",
      "children    0\n",
      "smoker      0\n",
      "region      0\n",
      "charges     0\n",
      "dtype: int64\n"
     ]
    }
   ],
   "source": [
    "import pandas as pd\n",
    "import numpy as np\n",
    "\n",
    "# Cargar los datos\n",
    "data = pd.read_csv(\"E:/Bootcamp/hospital/insurance.csv\")\n",
    "\n",
    "# Vista inicial de los datos\n",
    "print(\"Estructura de los datos:\")\n",
    "print(data.info())\n",
    "print(\"\\nPrimeras filas:\")\n",
    "print(data.head())\n",
    "\n",
    "# Resumen estadístico\n",
    "print(\"\\nResumen estadístico:\")\n",
    "print(data.describe())\n",
    "\n",
    "# Comprobar valores nulos\n",
    "print(\"\\nValores nulos por columna:\")\n",
    "print(data.isnull().sum())\n"
   ]
  },
  {
   "cell_type": "code",
   "execution_count": 2,
   "metadata": {},
   "outputs": [
    {
     "name": "stdout",
     "output_type": "stream",
     "text": [
      "Cantidad de outliers detectados: 29\n"
     ]
    }
   ],
   "source": [
    "# Manejar valores nulos (si existen)\n",
    "data.fillna(data.median(numeric_only=True), inplace=True)\n",
    "\n",
    "# Identificar y manejar outliers\n",
    "from scipy.stats import zscore\n",
    "\n",
    "z_scores = np.abs(zscore(data.select_dtypes(include=[np.number])))\n",
    "threshold = 3\n",
    "outliers = np.where(z_scores > threshold)\n",
    "\n",
    "print(f\"Cantidad de outliers detectados: {len(outliers[0])}\")\n",
    "\n",
    "# Filtrar outliers (opcional)\n",
    "data = data[(z_scores < threshold).all(axis=1)]\n"
   ]
  },
  {
   "cell_type": "code",
   "execution_count": 3,
   "metadata": {},
   "outputs": [
    {
     "name": "stdout",
     "output_type": "stream",
     "text": [
      "\n",
      "Preprocesamiento completado.\n"
     ]
    }
   ],
   "source": [
    "from sklearn.compose import ColumnTransformer\n",
    "from sklearn.preprocessing import StandardScaler, OneHotEncoder\n",
    "from sklearn.pipeline import Pipeline\n",
    "from sklearn.model_selection import train_test_split\n",
    "\n",
    "# Separar características y target\n",
    "X = data.drop(\"charges\", axis=1)\n",
    "y = data[\"charges\"]\n",
    "\n",
    "# Identificar variables categóricas y numéricas\n",
    "categorical_features = X.select_dtypes(include=['object']).columns\n",
    "numerical_features = X.select_dtypes(include=['int64', 'float64']).columns\n",
    "\n",
    "# Crear transformaciones\n",
    "preprocessor = ColumnTransformer(\n",
    "    transformers=[\n",
    "        ('num', StandardScaler(), numerical_features),\n",
    "        ('cat', OneHotEncoder(handle_unknown='ignore'), categorical_features)\n",
    "    ]\n",
    ")\n",
    "\n",
    "# Dividir en conjuntos de entrenamiento y prueba\n",
    "X_train, X_test, y_train, y_test = train_test_split(X, y, test_size=0.2, random_state=42)\n",
    "\n",
    "print(\"\\nPreprocesamiento completado.\")\n"
   ]
  },
  {
   "cell_type": "code",
   "execution_count": 4,
   "metadata": {},
   "outputs": [
    {
     "name": "stdout",
     "output_type": "stream",
     "text": [
      "\n",
      "Linear Regression:\n",
      "RMSE: 5517.62\n",
      "R2 Score: 0.78\n",
      "\n",
      "Decision Tree:\n",
      "RMSE: 5850.01\n",
      "R2 Score: 0.75\n",
      "\n",
      "Random Forest:\n",
      "RMSE: 4283.25\n",
      "R2 Score: 0.87\n"
     ]
    }
   ],
   "source": [
    "from sklearn.linear_model import LinearRegression\n",
    "from sklearn.ensemble import RandomForestRegressor\n",
    "from sklearn.tree import DecisionTreeRegressor\n",
    "from sklearn.model_selection import cross_val_score\n",
    "from sklearn.metrics import mean_squared_error, r2_score\n",
    "\n",
    "# Definir modelos\n",
    "models = {\n",
    "    'Linear Regression': LinearRegression(),\n",
    "    'Decision Tree': DecisionTreeRegressor(random_state=42),\n",
    "    'Random Forest': RandomForestRegressor(random_state=42)\n",
    "}\n",
    "\n",
    "# Evaluar modelos\n",
    "for name, model in models.items():\n",
    "    pipeline = Pipeline(steps=[('preprocessor', preprocessor), ('model', model)])\n",
    "    pipeline.fit(X_train, y_train)\n",
    "    y_pred = pipeline.predict(X_test)\n",
    "\n",
    "    print(f\"\\n{name}:\")\n",
    "    print(f\"RMSE: {np.sqrt(mean_squared_error(y_test, y_pred)):.2f}\")\n",
    "    print(f\"R2 Score: {r2_score(y_test, y_pred):.2f}\")\n"
   ]
  },
  {
   "cell_type": "code",
   "execution_count": 5,
   "metadata": {},
   "outputs": [
    {
     "name": "stdout",
     "output_type": "stream",
     "text": [
      "\n",
      "Mejores hiperparámetros (GridSearchCV):\n",
      "{'model__max_depth': 10, 'model__min_samples_split': 10, 'model__n_estimators': 200}\n"
     ]
    }
   ],
   "source": [
    "from sklearn.model_selection import GridSearchCV\n",
    "\n",
    "# Definir hiperparámetros para Random Forest\n",
    "param_grid = {\n",
    "    'model__n_estimators': [50, 100, 200],\n",
    "    'model__max_depth': [10, 20, None],\n",
    "    'model__min_samples_split': [2, 5, 10]\n",
    "}\n",
    "\n",
    "pipeline = Pipeline(steps=[('preprocessor', preprocessor), ('model', RandomForestRegressor(random_state=42))])\n",
    "\n",
    "grid_search = GridSearchCV(pipeline, param_grid, cv=3, scoring='neg_mean_squared_error', n_jobs=-1)\n",
    "grid_search.fit(X_train, y_train)\n",
    "\n",
    "print(\"\\nMejores hiperparámetros (GridSearchCV):\")\n",
    "print(grid_search.best_params_)\n",
    "\n",
    "best_model = grid_search.best_estimator_\n"
   ]
  },
  {
   "cell_type": "code",
   "execution_count": 6,
   "metadata": {},
   "outputs": [
    {
     "name": "stderr",
     "output_type": "stream",
     "text": [
      "c:\\Users\\chave\\AppData\\Local\\Programs\\Python\\Python312\\Lib\\site-packages\\numpy\\ma\\core.py:2881: RuntimeWarning: invalid value encountered in cast\n",
      "  _data = np.array(data, dtype=dtype, copy=copy,\n"
     ]
    },
    {
     "name": "stdout",
     "output_type": "stream",
     "text": [
      "\n",
      "Mejores hiperparámetros (RandomizedSearchCV):\n",
      "{'model__n_estimators': 200, 'model__min_samples_split': 10, 'model__max_depth': 10}\n"
     ]
    }
   ],
   "source": [
    "from sklearn.model_selection import RandomizedSearchCV\n",
    "\n",
    "param_dist = {\n",
    "    'model__n_estimators': [50, 100, 200],\n",
    "    'model__max_depth': [10, 20, None],\n",
    "    'model__min_samples_split': [2, 5, 10]\n",
    "}\n",
    "\n",
    "random_search = RandomizedSearchCV(pipeline, param_distributions=param_dist, n_iter=10, cv=3, scoring='neg_mean_squared_error', random_state=42, n_jobs=-1)\n",
    "random_search.fit(X_train, y_train)\n",
    "\n",
    "print(\"\\nMejores hiperparámetros (RandomizedSearchCV):\")\n",
    "print(random_search.best_params_)\n"
   ]
  },
  {
   "cell_type": "code",
   "execution_count": 7,
   "metadata": {},
   "outputs": [
    {
     "name": "stderr",
     "output_type": "stream",
     "text": [
      "c:\\Users\\chave\\AppData\\Local\\Programs\\Python\\Python312\\Lib\\site-packages\\tqdm\\auto.py:21: TqdmWarning: IProgress not found. Please update jupyter and ipywidgets. See https://ipywidgets.readthedocs.io/en/stable/user_install.html\n",
      "  from .autonotebook import tqdm as notebook_tqdm\n",
      "[I 2024-11-26 15:53:41,606] A new study created in memory with name: no-name-95d55678-126e-4d18-8f51-ac1eb576bc41\n",
      "[I 2024-11-26 15:53:43,824] Trial 0 finished with value: 22355486.0510962 and parameters: {'n_estimators': 419, 'max_depth': 18, 'min_samples_split': 13}. Best is trial 0 with value: 22355486.0510962.\n",
      "[I 2024-11-26 15:53:46,483] Trial 1 finished with value: 22729101.76874793 and parameters: {'n_estimators': 459, 'max_depth': 22, 'min_samples_split': 9}. Best is trial 0 with value: 22355486.0510962.\n",
      "[I 2024-11-26 15:53:48,201] Trial 2 finished with value: 22044049.914985646 and parameters: {'n_estimators': 346, 'max_depth': 45, 'min_samples_split': 20}. Best is trial 2 with value: 22044049.914985646.\n",
      "[I 2024-11-26 15:53:49,375] Trial 3 finished with value: 22654275.34796691 and parameters: {'n_estimators': 209, 'max_depth': 42, 'min_samples_split': 10}. Best is trial 2 with value: 22044049.914985646.\n",
      "[I 2024-11-26 15:53:50,566] Trial 4 finished with value: 22112973.70409092 and parameters: {'n_estimators': 236, 'max_depth': 12, 'min_samples_split': 18}. Best is trial 2 with value: 22044049.914985646.\n",
      "[I 2024-11-26 15:53:52,682] Trial 5 finished with value: 22837761.199961424 and parameters: {'n_estimators': 368, 'max_depth': 13, 'min_samples_split': 8}. Best is trial 2 with value: 22044049.914985646.\n",
      "[I 2024-11-26 15:53:53,262] Trial 6 finished with value: 22776612.10185781 and parameters: {'n_estimators': 100, 'max_depth': 19, 'min_samples_split': 10}. Best is trial 2 with value: 22044049.914985646.\n",
      "[I 2024-11-26 15:53:54,407] Trial 7 finished with value: 22591580.83854863 and parameters: {'n_estimators': 208, 'max_depth': 47, 'min_samples_split': 11}. Best is trial 2 with value: 22044049.914985646.\n",
      "[I 2024-11-26 15:53:56,188] Trial 8 finished with value: 23390194.44152965 and parameters: {'n_estimators': 276, 'max_depth': 33, 'min_samples_split': 4}. Best is trial 2 with value: 22044049.914985646.\n",
      "[I 2024-11-26 15:53:59,129] Trial 9 finished with value: 23214546.636034008 and parameters: {'n_estimators': 485, 'max_depth': 25, 'min_samples_split': 5}. Best is trial 2 with value: 22044049.914985646.\n",
      "[I 2024-11-26 15:54:00,725] Trial 10 finished with value: 22045694.732271113 and parameters: {'n_estimators': 335, 'max_depth': 35, 'min_samples_split': 20}. Best is trial 2 with value: 22044049.914985646.\n",
      "[I 2024-11-26 15:54:02,422] Trial 11 finished with value: 22046046.630602222 and parameters: {'n_estimators': 345, 'max_depth': 36, 'min_samples_split': 20}. Best is trial 2 with value: 22044049.914985646.\n",
      "[I 2024-11-26 15:54:04,071] Trial 12 finished with value: 22177607.185204852 and parameters: {'n_estimators': 330, 'max_depth': 50, 'min_samples_split': 16}. Best is trial 2 with value: 22044049.914985646.\n",
      "[I 2024-11-26 15:54:06,056] Trial 13 finished with value: 22228755.180571306 and parameters: {'n_estimators': 400, 'max_depth': 40, 'min_samples_split': 15}. Best is trial 2 with value: 22044049.914985646.\n",
      "[I 2024-11-26 15:54:07,509] Trial 14 finished with value: 22050023.85807754 and parameters: {'n_estimators': 291, 'max_depth': 27, 'min_samples_split': 20}. Best is trial 2 with value: 22044049.914985646.\n",
      "[I 2024-11-26 15:54:08,115] Trial 15 finished with value: 22154485.10603611 and parameters: {'n_estimators': 118, 'max_depth': 42, 'min_samples_split': 17}. Best is trial 2 with value: 22044049.914985646.\n",
      "[I 2024-11-26 15:54:08,925] Trial 16 finished with value: 22364042.1011087 and parameters: {'n_estimators': 153, 'max_depth': 35, 'min_samples_split': 14}. Best is trial 2 with value: 22044049.914985646.\n",
      "[I 2024-11-26 15:54:10,459] Trial 17 finished with value: 22096511.135366708 and parameters: {'n_estimators': 315, 'max_depth': 30, 'min_samples_split': 18}. Best is trial 2 with value: 22044049.914985646.\n",
      "[I 2024-11-26 15:54:12,358] Trial 18 finished with value: 22062780.175599035 and parameters: {'n_estimators': 399, 'max_depth': 46, 'min_samples_split': 20}. Best is trial 2 with value: 22044049.914985646.\n",
      "[I 2024-11-26 15:54:13,609] Trial 19 finished with value: 22488218.41513935 and parameters: {'n_estimators': 236, 'max_depth': 38, 'min_samples_split': 12}. Best is trial 2 with value: 22044049.914985646.\n",
      "[I 2024-11-26 15:54:16,947] Trial 20 finished with value: 23960355.282288462 and parameters: {'n_estimators': 446, 'max_depth': 31, 'min_samples_split': 2}. Best is trial 2 with value: 22044049.914985646.\n",
      "[I 2024-11-26 15:54:18,622] Trial 21 finished with value: 22044305.208364714 and parameters: {'n_estimators': 351, 'max_depth': 36, 'min_samples_split': 20}. Best is trial 2 with value: 22044049.914985646.\n",
      "[I 2024-11-26 15:54:20,493] Trial 22 finished with value: 22100657.74489897 and parameters: {'n_estimators': 383, 'max_depth': 45, 'min_samples_split': 18}. Best is trial 2 with value: 22044049.914985646.\n",
      "[I 2024-11-26 15:54:22,208] Trial 23 finished with value: 22059379.15805744 and parameters: {'n_estimators': 352, 'max_depth': 39, 'min_samples_split': 19}. Best is trial 2 with value: 22044049.914985646.\n",
      "[I 2024-11-26 15:54:23,773] Trial 24 finished with value: 22176075.501531675 and parameters: {'n_estimators': 314, 'max_depth': 29, 'min_samples_split': 16}. Best is trial 2 with value: 22044049.914985646.\n",
      "[I 2024-11-26 15:54:25,138] Trial 25 finished with value: 22162274.105909552 and parameters: {'n_estimators': 259, 'max_depth': 35, 'min_samples_split': 17}. Best is trial 2 with value: 22044049.914985646.\n",
      "[I 2024-11-26 15:54:26,790] Trial 26 finished with value: 22043263.997810442 and parameters: {'n_estimators': 310, 'max_depth': 50, 'min_samples_split': 20}. Best is trial 26 with value: 22043263.997810442.\n",
      "[I 2024-11-26 15:54:28,473] Trial 27 finished with value: 22218350.639342975 and parameters: {'n_estimators': 296, 'max_depth': 49, 'min_samples_split': 15}. Best is trial 26 with value: 22043263.997810442.\n",
      "[I 2024-11-26 15:54:30,633] Trial 28 finished with value: 22079141.501608353 and parameters: {'n_estimators': 422, 'max_depth': 43, 'min_samples_split': 19}. Best is trial 26 with value: 22043263.997810442.\n",
      "[I 2024-11-26 15:54:31,588] Trial 29 finished with value: 22381042.526491214 and parameters: {'n_estimators': 174, 'max_depth': 48, 'min_samples_split': 13}. Best is trial 26 with value: 22043263.997810442.\n",
      "[I 2024-11-26 15:54:33,777] Trial 30 finished with value: 22134579.641868073 and parameters: {'n_estimators': 429, 'max_depth': 45, 'min_samples_split': 17}. Best is trial 26 with value: 22043263.997810442.\n",
      "[I 2024-11-26 15:54:35,685] Trial 31 finished with value: 22032530.390566695 and parameters: {'n_estimators': 362, 'max_depth': 50, 'min_samples_split': 20}. Best is trial 31 with value: 22032530.390566695.\n",
      "[I 2024-11-26 15:54:37,714] Trial 32 finished with value: 22045612.672491666 and parameters: {'n_estimators': 365, 'max_depth': 50, 'min_samples_split': 19}. Best is trial 31 with value: 22032530.390566695.\n",
      "[I 2024-11-26 15:54:39,859] Trial 33 finished with value: 22080845.221827123 and parameters: {'n_estimators': 392, 'max_depth': 43, 'min_samples_split': 19}. Best is trial 31 with value: 22032530.390566695.\n",
      "[I 2024-11-26 15:54:41,654] Trial 34 finished with value: 22101562.832885444 and parameters: {'n_estimators': 316, 'max_depth': 47, 'min_samples_split': 18}. Best is trial 31 with value: 22032530.390566695.\n",
      "[I 2024-11-26 15:54:43,613] Trial 35 finished with value: 22857843.41359614 and parameters: {'n_estimators': 255, 'max_depth': 41, 'min_samples_split': 8}. Best is trial 31 with value: 22032530.390566695.\n",
      "[I 2024-11-26 15:54:46,160] Trial 36 finished with value: 22057946.582641974 and parameters: {'n_estimators': 460, 'max_depth': 45, 'min_samples_split': 20}. Best is trial 31 with value: 22032530.390566695.\n",
      "[I 2024-11-26 15:54:46,552] Trial 37 finished with value: 22184982.745015427 and parameters: {'n_estimators': 60, 'max_depth': 48, 'min_samples_split': 16}. Best is trial 31 with value: 22032530.390566695.\n",
      "[I 2024-11-26 15:54:48,688] Trial 38 finished with value: 22075082.306648936 and parameters: {'n_estimators': 365, 'max_depth': 17, 'min_samples_split': 18}. Best is trial 31 with value: 22032530.390566695.\n",
      "[I 2024-11-26 15:54:49,967] Trial 39 finished with value: 22058880.11044297 and parameters: {'n_estimators': 209, 'max_depth': 38, 'min_samples_split': 19}. Best is trial 31 with value: 22032530.390566695.\n",
      "[I 2024-11-26 15:54:51,600] Trial 40 finished with value: 22156181.18720442 and parameters: {'n_estimators': 282, 'max_depth': 44, 'min_samples_split': 17}. Best is trial 31 with value: 22032530.390566695.\n",
      "[I 2024-11-26 15:54:53,697] Trial 41 finished with value: 22065496.813179795 and parameters: {'n_estimators': 372, 'max_depth': 50, 'min_samples_split': 19}. Best is trial 31 with value: 22032530.390566695.\n",
      "[I 2024-11-26 15:54:55,808] Trial 42 finished with value: 22042515.1823068 and parameters: {'n_estimators': 353, 'max_depth': 50, 'min_samples_split': 20}. Best is trial 31 with value: 22032530.390566695.\n",
      "[I 2024-11-26 15:54:57,816] Trial 43 finished with value: 22046046.630602222 and parameters: {'n_estimators': 345, 'max_depth': 47, 'min_samples_split': 20}. Best is trial 31 with value: 22032530.390566695.\n",
      "[I 2024-11-26 15:55:00,030] Trial 44 finished with value: 23095359.966252 and parameters: {'n_estimators': 303, 'max_depth': 23, 'min_samples_split': 6}. Best is trial 31 with value: 22032530.390566695.\n",
      "[I 2024-11-26 15:55:02,022] Trial 45 finished with value: 22045694.732271113 and parameters: {'n_estimators': 335, 'max_depth': 50, 'min_samples_split': 20}. Best is trial 31 with value: 22032530.390566695.\n",
      "[I 2024-11-26 15:55:04,365] Trial 46 finished with value: 22109009.22372962 and parameters: {'n_estimators': 413, 'max_depth': 46, 'min_samples_split': 18}. Best is trial 31 with value: 22032530.390566695.\n",
      "[I 2024-11-26 15:55:06,897] Trial 47 finished with value: 22072170.61372676 and parameters: {'n_estimators': 497, 'max_depth': 48, 'min_samples_split': 20}. Best is trial 31 with value: 22032530.390566695.\n",
      "[I 2024-11-26 15:55:08,376] Trial 48 finished with value: 22233289.094011288 and parameters: {'n_estimators': 262, 'max_depth': 41, 'min_samples_split': 15}. Best is trial 31 with value: 22032530.390566695.\n",
      "[I 2024-11-26 15:55:10,198] Trial 49 finished with value: 22052667.239732757 and parameters: {'n_estimators': 353, 'max_depth': 43, 'min_samples_split': 19}. Best is trial 31 with value: 22032530.390566695.\n"
     ]
    },
    {
     "name": "stdout",
     "output_type": "stream",
     "text": [
      "\n",
      "Mejores hiperparámetros encontrados por Optuna:\n",
      "{'n_estimators': 362, 'max_depth': 50, 'min_samples_split': 20}\n",
      "\n",
      "Resultados del modelo optimizado:\n",
      "RMSE: 3969.78\n",
      "R2 Score: 0.89\n"
     ]
    }
   ],
   "source": [
    "import optuna\n",
    "from sklearn.ensemble import RandomForestRegressor\n",
    "from sklearn.pipeline import Pipeline\n",
    "from sklearn.model_selection import cross_val_score\n",
    "from sklearn.metrics import mean_squared_error, r2_score\n",
    "\n",
    "# Función objetivo para Optuna\n",
    "def objective(trial):\n",
    "    # Definir el espacio de búsqueda de hiperparámetros\n",
    "    n_estimators = trial.suggest_int('n_estimators', 50, 500)\n",
    "    max_depth = trial.suggest_int('max_depth', 10, 50)\n",
    "    min_samples_split = trial.suggest_int('min_samples_split', 2, 20)\n",
    "\n",
    "    # Crear el modelo con los hiperparámetros sugeridos\n",
    "    model = RandomForestRegressor(\n",
    "        n_estimators=n_estimators,\n",
    "        max_depth=max_depth,\n",
    "        min_samples_split=min_samples_split,\n",
    "        random_state=42\n",
    "    )\n",
    "\n",
    "    # Crear pipeline\n",
    "    pipeline = Pipeline(steps=[('preprocessor', preprocessor), ('model', model)])\n",
    "    \n",
    "    # Validación cruzada\n",
    "    scores = cross_val_score(pipeline, X_train, y_train, cv=3, scoring='neg_mean_squared_error')\n",
    "    return -scores.mean()  # Optuna busca minimizar esta métrica\n",
    "\n",
    "# Crear el estudio de optimización\n",
    "study = optuna.create_study(direction='minimize')\n",
    "study.optimize(objective, n_trials=50)\n",
    "\n",
    "# Resultados del estudio\n",
    "print(\"\\nMejores hiperparámetros encontrados por Optuna:\")\n",
    "print(study.best_params)\n",
    "\n",
    "# Entrenar modelo con los mejores hiperparámetros\n",
    "best_params = study.best_params\n",
    "final_model = RandomForestRegressor(\n",
    "    n_estimators=best_params['n_estimators'],\n",
    "    max_depth=best_params['max_depth'],\n",
    "    min_samples_split=best_params['min_samples_split'],\n",
    "    random_state=42\n",
    ")\n",
    "\n",
    "final_pipeline = Pipeline(steps=[('preprocessor', preprocessor), ('model', final_model)])\n",
    "final_pipeline.fit(X_train, y_train)\n",
    "\n",
    "# Evaluar en el conjunto de prueba\n",
    "y_pred = final_pipeline.predict(X_test)\n",
    "rmse = np.sqrt(mean_squared_error(y_test, y_pred))\n",
    "r2 = r2_score(y_test, y_pred)\n",
    "\n",
    "print(\"\\nResultados del modelo optimizado:\")\n",
    "print(f\"RMSE: {rmse:.2f}\")\n",
    "print(f\"R2 Score: {r2:.2f}\")\n"
   ]
  },
  {
   "cell_type": "code",
   "execution_count": 8,
   "metadata": {},
   "outputs": [
    {
     "name": "stdout",
     "output_type": "stream",
     "text": [
      "\n",
      "Comparación de Resultados:\n",
      "Modelo Inicial -> RMSE: 4283.25, R2 Score: 0.87\n",
      "Modelo Optimizado -> RMSE: 3969.78, R2 Score: 0.89\n"
     ]
    }
   ],
   "source": [
    "# Evaluación del modelo inicial\n",
    "initial_model = RandomForestRegressor(random_state=42)\n",
    "initial_pipeline = Pipeline(steps=[('preprocessor', preprocessor), ('model', initial_model)])\n",
    "initial_pipeline.fit(X_train, y_train)\n",
    "\n",
    "y_pred_initial = initial_pipeline.predict(X_test)\n",
    "rmse_initial = np.sqrt(mean_squared_error(y_test, y_pred_initial))\n",
    "r2_initial = r2_score(y_test, y_pred_initial)\n",
    "\n",
    "print(\"\\nComparación de Resultados:\")\n",
    "print(f\"Modelo Inicial -> RMSE: {rmse_initial:.2f}, R2 Score: {r2_initial:.2f}\")\n",
    "print(f\"Modelo Optimizado -> RMSE: {rmse:.2f}, R2 Score: {r2:.2f}\")\n"
   ]
  },
  {
   "cell_type": "code",
   "execution_count": 9,
   "metadata": {},
   "outputs": [
    {
     "data": {
      "image/png": "[encoded data removed]",
      "text/plain": [
       "<Figure size 640x480 with 1 Axes>"
      ]
     },
     "metadata": {},
     "output_type": "display_data"
    }
   ],
   "source": [
    "import matplotlib.pyplot as plt\n",
    "\n",
    "# Comparar RMSE\n",
    "labels = ['Inicial', 'Optimizado']\n",
    "rmse_values = [rmse_initial, rmse]\n",
    "\n",
    "plt.bar(labels, rmse_values, color=['blue', 'green'])\n",
    "plt.title('Comparación de RMSE')\n",
    "plt.ylabel('RMSE')\n",
    "plt.show()\n"
   ]
  }
 ],
 "metadata": {
  "kernelspec": {
   "display_name": "Python 3",
   "language": "python",
   "name": "python3"
  },
  "language_info": {
   "codemirror_mode": {
    "name": "ipython",
    "version": 3
   },
   "file_extension": ".py",
   "mimetype": "text/x-python",
   "name": "python",
   "nbconvert_exporter": "python",
   "pygments_lexer": "ipython3",
   "version": "3.12.6"
  }
 },
 "nbformat": 4,
 "nbformat_minor": 2
}
